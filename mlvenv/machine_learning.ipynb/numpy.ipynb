{
 "cells": [
  {
   "cell_type": "markdown",
   "metadata": {},
   "source": [
    "#Numpy is used for scientific opration and it is effiecient and faster"
   ]
  },
  {
   "cell_type": "code",
   "execution_count": 55,
   "metadata": {},
   "outputs": [],
   "source": [
    "import numpy as np"
   ]
  },
  {
   "cell_type": "code",
   "execution_count": 56,
   "metadata": {},
   "outputs": [
    {
     "name": "stdout",
     "output_type": "stream",
     "text": [
      "[1 2 3 4 5]\n",
      "shape array (5,)\n",
      "array dimension 1\n",
      "array size 5\n",
      "the arr datatype is  int64\n"
     ]
    }
   ],
   "source": [
    "#one dimensional array\n",
    "arr=np.array([1,2,3,4,5])\n",
    "print(arr)\n",
    "print(\"shape array\",arr.shape)\n",
    "print(\"array dimension\",arr.ndim)\n",
    "print(\"array size\",arr.size)\n",
    "print(\"the arr datatype is \",arr.dtype)"
   ]
  },
  {
   "cell_type": "code",
   "execution_count": 57,
   "metadata": {},
   "outputs": [
    {
     "name": "stdout",
     "output_type": "stream",
     "text": [
      "[[ 1  2  3  4  5]\n",
      " [ 6  7  8  9 10]]\n",
      "shape array (2, 5)\n",
      "array dimension 2\n",
      "array size 10\n",
      "the arr datatype is  int64\n"
     ]
    }
   ],
   "source": [
    "#two dimensional array\n",
    "arr1=np.array([[1,2,3,4,5],[6,7,8,9,10]])\n",
    "print(arr1)\n",
    "print(\"shape array\",arr1.shape)\n",
    "print(\"array dimension\",arr1.ndim)\n",
    "print(\"array size\",arr1.size)\n",
    "print(\"the arr datatype is \",arr1.dtype)"
   ]
  },
  {
   "cell_type": "code",
   "execution_count": 58,
   "metadata": {},
   "outputs": [
    {
     "name": "stdout",
     "output_type": "stream",
     "text": [
      "[[[ 1  2  3  4  5]\n",
      "  [ 6  7  8  9 10]\n",
      "  [11 12 13 14 15]]]\n",
      "shape array (1, 3, 5)\n",
      "array dimension 3\n",
      "array size 15\n",
      "the arr datatype is  int64\n"
     ]
    }
   ],
   "source": [
    "#three dimensional array\n",
    "arr3=np.array([[[1,2,3,4,5],[6,7,8,9,10],[11,12,13,14,15]]])\n",
    "print(arr3)\n",
    "print(\"shape array\",arr3.shape)\n",
    "print(\"array dimension\",arr3.ndim)\n",
    "print(\"array size\",arr3.size)\n",
    "print(\"the arr datatype is \",arr3.dtype)"
   ]
  },
  {
   "cell_type": "code",
   "execution_count": 59,
   "metadata": {},
   "outputs": [
    {
     "name": "stdout",
     "output_type": "stream",
     "text": [
      "[[0. 0. 0.]\n",
      " [0. 0. 0.]]\n"
     ]
    }
   ],
   "source": [
    "#zeros\n",
    "zero=np.zeros((2,3))\n",
    "print(zero)"
   ]
  },
  {
   "cell_type": "code",
   "execution_count": 60,
   "metadata": {},
   "outputs": [
    {
     "name": "stdout",
     "output_type": "stream",
     "text": [
      "[[1. 1. 1.]\n",
      " [1. 1. 1.]]\n"
     ]
    }
   ],
   "source": [
    "#ones\n",
    "one=np.ones((2,3))\n",
    "print(one)"
   ]
  },
  {
   "cell_type": "code",
   "execution_count": 61,
   "metadata": {},
   "outputs": [
    {
     "name": "stdout",
     "output_type": "stream",
     "text": [
      "[[[0. 0. 0. 0. 0.]\n",
      "  [0. 0. 0. 0. 0.]\n",
      "  [0. 0. 0. 0. 0.]]]\n"
     ]
    }
   ],
   "source": [
    "#zeroslike\n",
    "zerolike=np.zeros_like(arr3,dtype='float32')\n",
    "print(zerolike)"
   ]
  },
  {
   "cell_type": "code",
   "execution_count": 62,
   "metadata": {},
   "outputs": [
    {
     "name": "stdout",
     "output_type": "stream",
     "text": [
      "[[[1. 1. 1. 1. 1.]\n",
      "  [1. 1. 1. 1. 1.]\n",
      "  [1. 1. 1. 1. 1.]]]\n"
     ]
    }
   ],
   "source": [
    "#oneslike\n",
    "oneslike=np.ones_like(arr3,dtype='float32')\n",
    "print(oneslike)"
   ]
  },
  {
   "cell_type": "code",
   "execution_count": 63,
   "metadata": {},
   "outputs": [
    {
     "name": "stdout",
     "output_type": "stream",
     "text": [
      "[[6.23042070e-307 4.67296746e-307]\n",
      " [1.69121096e-306 9.34609111e-307]]\n"
     ]
    }
   ],
   "source": [
    "#empty\n",
    "empty=np.empty((2,2))\n",
    "print(empty)"
   ]
  },
  {
   "cell_type": "code",
   "execution_count": 64,
   "metadata": {},
   "outputs": [
    {
     "name": "stdout",
     "output_type": "stream",
     "text": [
      "[[[ 1  2  3  4  5]\n",
      "  [ 6  7  8  9 10]\n",
      "  [11 12 13 14 15]]]\n"
     ]
    }
   ],
   "source": [
    "#emptylike\n",
    "emptylike=np.empty_like(arr3)\n",
    "print(emptylike)"
   ]
  },
  {
   "cell_type": "code",
   "execution_count": 65,
   "metadata": {},
   "outputs": [
    {
     "name": "stdout",
     "output_type": "stream",
     "text": [
      "[[1. 0. 0.]\n",
      " [0. 1. 0.]\n",
      " [0. 0. 1.]]\n"
     ]
    }
   ],
   "source": [
    "#diagonal matrix\n",
    "eye=np.eye(3)\n",
    "print(eye)"
   ]
  },
  {
   "cell_type": "code",
   "execution_count": 66,
   "metadata": {},
   "outputs": [
    {
     "name": "stdout",
     "output_type": "stream",
     "text": [
      "[0 2 4 6 8]\n"
     ]
    }
   ],
   "source": [
    "#syntax=> np.arange(start,stop,step)\n",
    "range_val=np.arange(0,10,2)\n",
    "print(range_val)"
   ]
  },
  {
   "cell_type": "code",
   "execution_count": 67,
   "metadata": {},
   "outputs": [],
   "source": [
    "x=np.array([1,2,3])\n",
    "y=np.array([4,5,6])"
   ]
  },
  {
   "cell_type": "markdown",
   "metadata": {},
   "source": [
    "#mathematical opration"
   ]
  },
  {
   "cell_type": "code",
   "execution_count": 68,
   "metadata": {},
   "outputs": [
    {
     "name": "stdout",
     "output_type": "stream",
     "text": [
      "addition of two arrays [5 7 9]\n",
      "subtraction of two arrays [-3 -3 -3]\n",
      "multiplication of two arrays [ 4 10 18]\n",
      "division of two arrays [0.25 0.4  0.5 ]\n"
     ]
    }
   ],
   "source": [
    "add_arr=np.add(x,y)\n",
    "print(\"addition of two arrays\",add_arr)\n",
    "sub_arr=np.subtract(x,y)\n",
    "print(\"subtraction of two arrays\",sub_arr)\n",
    "mul_arr=np.multiply(x,y)\n",
    "print(\"multiplication of two arrays\",mul_arr)\n",
    "div_arr=np.divide(x,y)\n",
    "print(\"division of two arrays\",div_arr)"
   ]
  },
  {
   "cell_type": "code",
   "execution_count": 69,
   "metadata": {},
   "outputs": [],
   "source": [
    "arr4=np.array([12,3,34,23,55,39,34])"
   ]
  },
  {
   "cell_type": "code",
   "execution_count": 70,
   "metadata": {},
   "outputs": [
    {
     "name": "stdout",
     "output_type": "stream",
     "text": [
      "4\n"
     ]
    }
   ],
   "source": [
    "#return the maximum  value index in the array \n",
    "max_index=np.argmax(arr4)\n",
    "print(max_index)"
   ]
  },
  {
   "cell_type": "code",
   "execution_count": 71,
   "metadata": {},
   "outputs": [
    {
     "name": "stdout",
     "output_type": "stream",
     "text": [
      "1\n"
     ]
    }
   ],
   "source": [
    "#return the minimum value index in the array \n",
    "min_index=np.argmin(arr4)\n",
    "print(min_index)"
   ]
  },
  {
   "cell_type": "code",
   "execution_count": 72,
   "metadata": {},
   "outputs": [
    {
     "name": "stdout",
     "output_type": "stream",
     "text": [
      "[[12  3 34 23 55 39 34]]\n"
     ]
    }
   ],
   "source": [
    "#reshape the given array\n",
    "reshape_arr=arr4.reshape(1,7)\n",
    "print(reshape_arr)"
   ]
  },
  {
   "cell_type": "code",
   "execution_count": 73,
   "metadata": {},
   "outputs": [
    {
     "name": "stdout",
     "output_type": "stream",
     "text": [
      "[1 2 3]\n",
      "[4 5 6]\n"
     ]
    }
   ],
   "source": [
    "print(x)\n",
    "print(y)"
   ]
  },
  {
   "cell_type": "code",
   "execution_count": 74,
   "metadata": {},
   "outputs": [
    {
     "name": "stdout",
     "output_type": "stream",
     "text": [
      "[[1]\n",
      " [2]\n",
      " [3]]\n"
     ]
    }
   ],
   "source": [
    "#increase the dimension\n",
    "x=np.expand_dims(x,axis=1)\n",
    "print(x)"
   ]
  },
  {
   "cell_type": "markdown",
   "metadata": {},
   "source": [
    "statistical operation "
   ]
  },
  {
   "cell_type": "code",
   "execution_count": 79,
   "metadata": {},
   "outputs": [
    {
     "name": "stdout",
     "output_type": "stream",
     "text": [
      "array is [1 2 3 4 5]\n",
      "mean is 3.0\n",
      "median is 3.0\n",
      "standard deviation 1.4142135623730951\n",
      "square root [1.         1.41421356 1.73205081 2.         2.23606798]\n",
      "log [0.         0.69314718 1.09861229 1.38629436 1.60943791]\n"
     ]
    }
   ],
   "source": [
    "cal=np.array([1,2,3,4,5])\n",
    "print(\"array is\",cal)\n",
    "print(\"mean is\",np.mean(cal))\n",
    "print(\"median is\",np.median(cal))\n",
    "print(\"standard deviation\",np.std(cal))\n",
    "print(\"square root\",np.sqrt(cal))\n",
    "print(\"log\",np.log(cal))\n"
   ]
  },
  {
   "cell_type": "code",
   "execution_count": 78,
   "metadata": {},
   "outputs": [
    {
     "name": "stdout",
     "output_type": "stream",
     "text": [
      "[2 3 0 1 4]\n"
     ]
    }
   ],
   "source": [
    "#np.argsort() sort the array in ascending order\n",
    "val=([4,7,2,3,8])\n",
    "sort_array=np.argsort(val)\n",
    "print(sort_array)"
   ]
  },
  {
   "cell_type": "code",
   "execution_count": 90,
   "metadata": {},
   "outputs": [
    {
     "name": "stdout",
     "output_type": "stream",
     "text": [
      "66\n"
     ]
    }
   ],
   "source": [
    "#create random number for every execution\n",
    "random_num=np.random.randint(0,99)\n",
    "print(random_num)"
   ]
  }
 ],
 "metadata": {
  "kernelspec": {
   "display_name": "mlvenv",
   "language": "python",
   "name": "python3"
  },
  "language_info": {
   "codemirror_mode": {
    "name": "ipython",
    "version": 3
   },
   "file_extension": ".py",
   "mimetype": "text/x-python",
   "name": "python",
   "nbconvert_exporter": "python",
   "pygments_lexer": "ipython3",
   "version": "3.12.2"
  }
 },
 "nbformat": 4,
 "nbformat_minor": 2
}
