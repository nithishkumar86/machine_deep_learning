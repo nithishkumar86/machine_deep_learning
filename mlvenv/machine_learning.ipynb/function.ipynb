{
 "cells": [
  {
   "cell_type": "markdown",
   "metadata": {},
   "source": [
    "#syntax \n",
    "#def function_name(parmeters):\n",
    "\n",
    "#body\n",
    "\n",
    "#return ----- "
   ]
  },
  {
   "cell_type": "code",
   "execution_count": 1,
   "metadata": {},
   "outputs": [],
   "source": [
    "def funct(a:int,b:int)->int:\n",
    "    \"\"\"addition of two numbers\"\"\"\n",
    "    return a+b"
   ]
  },
  {
   "cell_type": "code",
   "execution_count": 2,
   "metadata": {},
   "outputs": [],
   "source": [
    "result=funct(3,6)"
   ]
  },
  {
   "cell_type": "code",
   "execution_count": 3,
   "metadata": {},
   "outputs": [
    {
     "name": "stdout",
     "output_type": "stream",
     "text": [
      "9\n"
     ]
    }
   ],
   "source": [
    "print(result)"
   ]
  },
  {
   "cell_type": "code",
   "execution_count": 4,
   "metadata": {},
   "outputs": [],
   "source": [
    "def user(name:str,age:int,district:str):\n",
    "    return f\"the name is {name} and the age {age} district is {district}\""
   ]
  },
  {
   "cell_type": "code",
   "execution_count": 5,
   "metadata": {},
   "outputs": [
    {
     "data": {
      "text/plain": [
       "'the name is nithish and the age 22 district is ariyalur'"
      ]
     },
     "execution_count": 5,
     "metadata": {},
     "output_type": "execute_result"
    }
   ],
   "source": [
    "user(\"nithish\",22,\"ariyalur\")"
   ]
  },
  {
   "cell_type": "markdown",
   "metadata": {},
   "source": [
    "#default parameter"
   ]
  },
  {
   "cell_type": "code",
   "execution_count": 6,
   "metadata": {},
   "outputs": [],
   "source": [
    "def user_detail(name=\"nithish\",age=22):\n",
    "    print(f\"the name is {name} and my age is {age}\")"
   ]
  },
  {
   "cell_type": "code",
   "execution_count": 7,
   "metadata": {},
   "outputs": [
    {
     "name": "stdout",
     "output_type": "stream",
     "text": [
      "the name is nithish and my age is 22\n"
     ]
    }
   ],
   "source": [
    "user_detail()"
   ]
  },
  {
   "cell_type": "markdown",
   "metadata": {},
   "source": [
    "#variable length argument"
   ]
  },
  {
   "cell_type": "code",
   "execution_count": 8,
   "metadata": {},
   "outputs": [],
   "source": [
    "#in varibable length arguments we use positional arguments\n",
    "def varlenarg(*args):\n",
    "    for i in args:\n",
    "       print(i,end=\" \")"
   ]
  },
  {
   "cell_type": "code",
   "execution_count": 9,
   "metadata": {},
   "outputs": [
    {
     "name": "stdout",
     "output_type": "stream",
     "text": [
      "1 2 3 4 5 nithish True 0.2 "
     ]
    }
   ],
   "source": [
    "varlenarg(1,2,3,4,5,\"nithish\",True,0.2)"
   ]
  },
  {
   "cell_type": "markdown",
   "metadata": {},
   "source": [
    "#keyword arguments"
   ]
  },
  {
   "cell_type": "code",
   "execution_count": 10,
   "metadata": {},
   "outputs": [],
   "source": [
    "def keywordargs(**kwargs):\n",
    "    for key,value in kwargs.items():\n",
    "        print(f\"the key is: {key} and value is : {value}\")"
   ]
  },
  {
   "cell_type": "code",
   "execution_count": 11,
   "metadata": {},
   "outputs": [
    {
     "name": "stdout",
     "output_type": "stream",
     "text": [
      "the key is: name and value is : nithish\n",
      "the key is: age and value is : 22\n",
      "the key is: district and value is : ariyalur\n"
     ]
    }
   ],
   "source": [
    "keywordargs(name=\"nithish\",age=22,district=\"ariyalur\")"
   ]
  },
  {
   "cell_type": "markdown",
   "metadata": {},
   "source": [
    "#combination of both variable length arguments and keyword arguments"
   ]
  },
  {
   "cell_type": "code",
   "execution_count": 16,
   "metadata": {},
   "outputs": [],
   "source": [
    "def combine(*args,**kwargs):\n",
    "    for i in args:\n",
    "        print(i,end=\" \")\n",
    "    \n",
    "    for key,value in kwargs.items():\n",
    "        print(f\"\\nthe key is: {key} and value is : {value}\")"
   ]
  },
  {
   "cell_type": "code",
   "execution_count": 17,
   "metadata": {},
   "outputs": [
    {
     "name": "stdout",
     "output_type": "stream",
     "text": [
      "1 2 3 4 \n",
      "the key is: name and value is : nithish\n",
      "\n",
      "the key is: age and value is : 28\n",
      "\n",
      "the key is: district and value is : ariyalur\n"
     ]
    }
   ],
   "source": [
    "combine(1,2,3,4,name=\"nithish\",age=28,district=\"ariyalur\")"
   ]
  },
  {
   "cell_type": "code",
   "execution_count": 20,
   "metadata": {},
   "outputs": [
    {
     "name": "stdout",
     "output_type": "stream",
     "text": [
      "hsihtin\n"
     ]
    }
   ],
   "source": [
    "name=\"nithish\"\n",
    "print(name[::-1])"
   ]
  },
  {
   "cell_type": "code",
   "execution_count": 21,
   "metadata": {},
   "outputs": [],
   "source": [
    "#example of palindrome\n",
    "def palindrome(name):\n",
    "    reverse=name[::-1]\n",
    "    return name==reverse\n"
   ]
  },
  {
   "cell_type": "code",
   "execution_count": 22,
   "metadata": {},
   "outputs": [
    {
     "data": {
      "text/plain": [
       "True"
      ]
     },
     "execution_count": 22,
     "metadata": {},
     "output_type": "execute_result"
    }
   ],
   "source": [
    "name=input(\"enter the name\")\n",
    "palindrome(name)"
   ]
  }
 ],
 "metadata": {
  "kernelspec": {
   "display_name": "myvenv",
   "language": "python",
   "name": "python3"
  },
  "language_info": {
   "codemirror_mode": {
    "name": "ipython",
    "version": 3
   },
   "file_extension": ".py",
   "mimetype": "text/x-python",
   "name": "python",
   "nbconvert_exporter": "python",
   "pygments_lexer": "ipython3",
   "version": "3.12.2"
  }
 },
 "nbformat": 4,
 "nbformat_minor": 2
}
