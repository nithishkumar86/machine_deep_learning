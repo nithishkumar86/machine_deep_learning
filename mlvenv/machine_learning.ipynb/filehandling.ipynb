{
 "cells": [
  {
   "cell_type": "markdown",
   "metadata": {},
   "source": [
    "#file handling in python \n",
    "\n",
    "#create and write operation in file handling"
   ]
  },
  {
   "cell_type": "code",
   "execution_count": 1,
   "metadata": {},
   "outputs": [],
   "source": [
    "with open(\"sample.txt\",'w') as file:\n",
    "    file.write(\"hello i'm nithish kumar i wanted become ai & ml engineer\")"
   ]
  },
  {
   "cell_type": "markdown",
   "metadata": {},
   "source": [
    "#read operation in file handling "
   ]
  },
  {
   "cell_type": "code",
   "execution_count": 2,
   "metadata": {},
   "outputs": [
    {
     "name": "stdout",
     "output_type": "stream",
     "text": [
      "hello i'm nithish kumar i wanted become ai & ml engineer\n",
      "hello i'm nithish kumar i wanted become ai & ml engineer\n"
     ]
    }
   ],
   "source": [
    "with open(\"sample.txt\",'r') as file:\n",
    "    content=file.read()\n",
    "    print(content.strip())\n",
    "    for text in content.split('\\n'):\n",
    "        print(text.strip())"
   ]
  },
  {
   "cell_type": "markdown",
   "metadata": {},
   "source": [
    "#append operation in file handling"
   ]
  },
  {
   "cell_type": "code",
   "execution_count": 3,
   "metadata": {},
   "outputs": [],
   "source": [
    "#append file\n",
    "with open(\"sample.txt\",'a') as file:\n",
    "    file.write(\"\\n i'studying b tech Information technoloy\")"
   ]
  },
  {
   "cell_type": "code",
   "execution_count": 4,
   "metadata": {},
   "outputs": [
    {
     "name": "stdout",
     "output_type": "stream",
     "text": [
      "hello i'm nithish kumar i wanted become ai & ml engineer\n",
      " i'studying b tech Information technoloy\n"
     ]
    }
   ],
   "source": [
    "with open(\"sample.txt\",'r') as file:\n",
    "    content=file.read()\n",
    "    print(content)"
   ]
  },
  {
   "cell_type": "code",
   "execution_count": 5,
   "metadata": {},
   "outputs": [],
   "source": [
    "sentence=['hello\\n','how are you\\n','i am fine']"
   ]
  },
  {
   "cell_type": "code",
   "execution_count": 6,
   "metadata": {},
   "outputs": [],
   "source": [
    "#write a list of sentences into a file files\n",
    "with open('example.txt','w')as file:\n",
    "    file.writelines(sentence)"
   ]
  },
  {
   "cell_type": "markdown",
   "metadata": {},
   "source": [
    "the w+ mode is used to open the file for both writing and reading.if the file doesn't \n",
    "exist it will create file"
   ]
  },
  {
   "cell_type": "code",
   "execution_count": 7,
   "metadata": {},
   "outputs": [
    {
     "name": "stdout",
     "output_type": "stream",
     "text": [
      "hello\n",
      "how are you\n"
     ]
    }
   ],
   "source": [
    "with open('example1.txt','w+')as file:\n",
    "    file.write('hello\\n')\n",
    "    file.write('how are you')\n",
    "\n",
    "    file.seek(0)\n",
    "\n",
    "    content=file.read()\n",
    "    print(content)"
   ]
  },
  {
   "cell_type": "markdown",
   "metadata": {},
   "source": [
    "#os operation on the file"
   ]
  },
  {
   "cell_type": "code",
   "execution_count": 8,
   "metadata": {},
   "outputs": [],
   "source": [
    "#os.mkdir() is used to create folder\n",
    "import os"
   ]
  },
  {
   "cell_type": "code",
   "execution_count": 9,
   "metadata": {},
   "outputs": [
    {
     "data": {
      "text/plain": [
       "'e:\\\\machine_deep_learning\\\\mlvenv\\\\machine_learning.ipynb'"
      ]
     },
     "execution_count": 9,
     "metadata": {},
     "output_type": "execute_result"
    }
   ],
   "source": [
    "os.getcwd()"
   ]
  },
  {
   "cell_type": "code",
   "execution_count": 10,
   "metadata": {},
   "outputs": [
    {
     "name": "stdout",
     "output_type": "stream",
     "text": [
      "the path example1.txt is exists\n"
     ]
    }
   ],
   "source": [
    "#checking the file if the file exists or not\n",
    "path='example1.txt'\n",
    "\n",
    "if os.path.exists(path):\n",
    "    print(f\"the path {path} is exists\")\n",
    "else:\n",
    "    print(f\"the path {path} does't exists\")"
   ]
  },
  {
   "cell_type": "code",
   "execution_count": 11,
   "metadata": {},
   "outputs": [
    {
     "data": {
      "text/plain": [
       "['dictionary.ipynb',\n",
       " 'example.txt',\n",
       " 'example1.txt',\n",
       " 'exception.ipynb',\n",
       " 'filehandling.ipynb',\n",
       " 'for_while.ipynb',\n",
       " 'full_oops_concept.ipynb',\n",
       " 'function.ipynb',\n",
       " 'genai.ipynb',\n",
       " 'if_condition.ipynb',\n",
       " 'list.ipynb',\n",
       " 'map_filter_lambda.ipynb',\n",
       " 'sample.txt',\n",
       " 'sets.ipynb',\n",
       " 'tuple.ipynb']"
      ]
     },
     "execution_count": 11,
     "metadata": {},
     "output_type": "execute_result"
    }
   ],
   "source": [
    "os.listdir('.')"
   ]
  },
  {
   "cell_type": "code",
   "execution_count": 12,
   "metadata": {},
   "outputs": [
    {
     "name": "stdout",
     "output_type": "stream",
     "text": [
      "python.ipynb\\destination.txt\n"
     ]
    }
   ],
   "source": [
    "#relative path=>folder_name and file_name\n",
    "folder='python.ipynb'\n",
    "file='destination.txt'\n",
    "relative_path=os.path.join(folder,file)\n",
    "print(relative_path)"
   ]
  },
  {
   "cell_type": "code",
   "execution_count": 13,
   "metadata": {},
   "outputs": [
    {
     "name": "stdout",
     "output_type": "stream",
     "text": [
      "e:\\machine_deep_learning\\mlvenv\\machine_learning.ipynb\\python.ipynb\\destination.txt\n"
     ]
    }
   ],
   "source": [
    "#absolute path =>entire path of the file\n",
    "folder='python.ipynb'\n",
    "file='destination.txt'\n",
    "absolute_path=os.path.join(os.getcwd(),folder,file)\n",
    "print(absolute_path)"
   ]
  },
  {
   "cell_type": "code",
   "execution_count": 14,
   "metadata": {},
   "outputs": [
    {
     "name": "stdout",
     "output_type": "stream",
     "text": [
      "it is neither a file nor a folder\n"
     ]
    }
   ],
   "source": [
    "#checking the file it is isfile() or isfolder() or neither of these\n",
    "\n",
    "path='destination.txt'\n",
    "\n",
    "if os.path.isfile(path):\n",
    "    print(f\"the file {path} exists\")\n",
    "elif os.path.isdir(path):\n",
    "    print(f\"the folder {path} exists\")\n",
    "else:\n",
    "    print(\"it is neither a file nor a folder\")"
   ]
  }
 ],
 "metadata": {
  "kernelspec": {
   "display_name": "mlvenv",
   "language": "python",
   "name": "python3"
  },
  "language_info": {
   "codemirror_mode": {
    "name": "ipython",
    "version": 3
   },
   "file_extension": ".py",
   "mimetype": "text/x-python",
   "name": "python",
   "nbconvert_exporter": "python",
   "pygments_lexer": "ipython3",
   "version": "3.12.2"
  }
 },
 "nbformat": 4,
 "nbformat_minor": 2
}
