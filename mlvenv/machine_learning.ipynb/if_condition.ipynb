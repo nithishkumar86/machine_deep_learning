{
 "cells": [
  {
   "cell_type": "markdown",
   "metadata": {},
   "source": [
    "#if condition using python"
   ]
  },
  {
   "cell_type": "code",
   "execution_count": 1,
   "metadata": {},
   "outputs": [
    {
     "name": "stdout",
     "output_type": "stream",
     "text": [
      "you not eigible to vote\n"
     ]
    }
   ],
   "source": [
    "age=12\n",
    "if age>18:\n",
    "    print(\"you are eligible to vote\")\n",
    "else:\n",
    "    print(\"you not eigible to vote\")"
   ]
  },
  {
   "cell_type": "code",
   "execution_count": 3,
   "metadata": {},
   "outputs": [
    {
     "name": "stdout",
     "output_type": "stream",
     "text": [
      "leap year\n"
     ]
    }
   ],
   "source": [
    "year=int(input(\"enter the year\"))\n",
    "if year%4==0:\n",
    "    print(\"leap year\")\n",
    "else:\n",
    "    print(\"not leap year\")"
   ]
  },
  {
   "cell_type": "code",
   "execution_count": 8,
   "metadata": {},
   "outputs": [
    {
     "name": "stdout",
     "output_type": "stream",
     "text": [
      "youth  stage\n",
      "he is a father stage\n"
     ]
    }
   ],
   "source": [
    "#nested if\n",
    "age=int(input(\"enter the your age\"))\n",
    "if (age>18 & age<30):\n",
    "    print(\"youth  stage\")\n",
    "    if (age>30):\n",
    "        print(\"he is a father stage\")\n",
    "\n",
    "    else:\n",
    "        print(\"he is a grandfather\")\n",
    "else:\n",
    "    print(\"he is child\")"
   ]
  },
  {
   "cell_type": "markdown",
   "metadata": {},
   "source": [
    "#nested if"
   ]
  },
  {
   "cell_type": "code",
   "execution_count": 10,
   "metadata": {},
   "outputs": [
    {
     "name": "stdout",
     "output_type": "stream",
     "text": [
      "he is c grade\n"
     ]
    }
   ],
   "source": [
    "mark=int(input(\"enter the your mark\"))\n",
    "if (mark>90) &(mark<100):\n",
    "    print(\"he get A record\")\n",
    "elif (mark>80) & (mark<90):\n",
    "    print(\"he is B grade\")\n",
    "elif (mark>70) & (mark<80):\n",
    "    print(\"he is c grade\")\n",
    "elif (mark>60) & (mark<50):\n",
    "    print(\"he is b grade\")\n",
    "else:\n",
    "    print(\"he is average\")"
   ]
  },
  {
   "cell_type": "code",
   "execution_count": 13,
   "metadata": {},
   "outputs": [
    {
     "name": "stdout",
     "output_type": "stream",
     "text": [
      "he is waste fellow\n"
     ]
    }
   ],
   "source": [
    "name=input(\"enter the your mark\")\n",
    "if name==\"nithish\":\n",
    "    print(\"he is ai engineer\")\n",
    "else:\n",
    "    if name==\"kumar\":\n",
    "        print(\"deep learning engineer\")\n",
    "    else:\n",
    "        print(\"he is waste fellow\")"
   ]
  }
 ],
 "metadata": {
  "kernelspec": {
   "display_name": "myvenv",
   "language": "python",
   "name": "python3"
  },
  "language_info": {
   "codemirror_mode": {
    "name": "ipython",
    "version": 3
   },
   "file_extension": ".py",
   "mimetype": "text/x-python",
   "name": "python",
   "nbconvert_exporter": "python",
   "pygments_lexer": "ipython3",
   "version": "3.12.2"
  }
 },
 "nbformat": 4,
 "nbformat_minor": 2
}
