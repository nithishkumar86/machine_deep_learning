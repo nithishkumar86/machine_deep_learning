{
 "cells": [
  {
   "cell_type": "markdown",
   "metadata": {},
   "source": [
    "sqlite => is a self contained server less database and zero configuration database engine\n",
    "\n",
    "that is widely used in embedded database system "
   ]
  },
  {
   "cell_type": "code",
   "execution_count": 26,
   "metadata": {},
   "outputs": [],
   "source": [
    "import sqlite3"
   ]
  },
  {
   "cell_type": "code",
   "execution_count": 27,
   "metadata": {},
   "outputs": [],
   "source": [
    "#creation of database\n",
    "connection=sqlite3.connect('sample.db')"
   ]
  },
  {
   "cell_type": "code",
   "execution_count": 28,
   "metadata": {},
   "outputs": [],
   "source": [
    "cursor=connection.cursor()"
   ]
  },
  {
   "cell_type": "code",
   "execution_count": 29,
   "metadata": {},
   "outputs": [],
   "source": [
    "cursor.execute('''\n",
    "Create Table If Not Exists student(\n",
    "               student_id Integer Primary Key,\n",
    "               student_name Text Not Null,\n",
    "               student_age Integer Not Null,\n",
    "               student_dept Text Not Null \n",
    "               )\n",
    "''')\n",
    "\n",
    "connection.commit()"
   ]
  },
  {
   "cell_type": "code",
   "execution_count": 30,
   "metadata": {},
   "outputs": [
    {
     "data": {
      "text/plain": [
       "<sqlite3.Cursor at 0x22da5ba3440>"
      ]
     },
     "execution_count": 30,
     "metadata": {},
     "output_type": "execute_result"
    }
   ],
   "source": [
    "cursor.execute('Select * from student')"
   ]
  },
  {
   "cell_type": "code",
   "execution_count": 31,
   "metadata": {},
   "outputs": [],
   "source": [
    "#insert sigle query\n",
    "cursor.execute('''\n",
    "        Insert Into student(student_name,student_age,student_dept)\n",
    "               Values(\"nithish\",22,\"it\")\n",
    "''')\n",
    "\n",
    "cursor.execute('''\n",
    "        Insert Into student(student_name,student_age,student_dept)\n",
    "               Values(\"vijay\",24,\"eee\")\n",
    "''')\n",
    "\n",
    "cursor.execute('''\n",
    "        Insert Into student(student_name,student_age,student_dept)\n",
    "               Values(\"mohan\",25,\"mech\")\n",
    "''')\n",
    "\n",
    "cursor.execute('''\n",
    "        Insert Into student(student_name,student_age,student_dept)\n",
    "               Values(\"gokul\",21,\"cse\")\n",
    "''')\n",
    "\n",
    "connection.commit()"
   ]
  },
  {
   "cell_type": "code",
   "execution_count": 32,
   "metadata": {},
   "outputs": [
    {
     "name": "stdout",
     "output_type": "stream",
     "text": [
      "(1, 'nithish', 22, 'it')\n",
      "(2, 'vijay', 24, 'eee')\n",
      "(3, 'mohan', 25, 'mech')\n",
      "(4, 'gokul', 21, 'cse')\n",
      "(5, 'nithish', 22, 'it')\n",
      "(6, 'vijay', 24, 'eee')\n",
      "(7, 'mohan', 25, 'mech')\n",
      "(8, 'gokul', 21, 'cse')\n"
     ]
    }
   ],
   "source": [
    "#fetching the data from the student.db\n",
    "cursor.execute('Select * from student')\n",
    "rows=cursor.fetchall()\n",
    "\n",
    "for row in rows:\n",
    "    print(row)"
   ]
  },
  {
   "cell_type": "code",
   "execution_count": 33,
   "metadata": {},
   "outputs": [
    {
     "data": {
      "text/plain": [
       "<sqlite3.Cursor at 0x22da5ba3440>"
      ]
     },
     "execution_count": 33,
     "metadata": {},
     "output_type": "execute_result"
    }
   ],
   "source": [
    "cursor.execute('''\n",
    "        UPDATE student\n",
    "               Set student_age=23\n",
    "               Where student_name=\"nithish\"\n",
    "''')"
   ]
  },
  {
   "cell_type": "code",
   "execution_count": 34,
   "metadata": {},
   "outputs": [
    {
     "name": "stdout",
     "output_type": "stream",
     "text": [
      "(1, 'nithish', 23, 'it')\n",
      "(2, 'vijay', 24, 'eee')\n",
      "(3, 'mohan', 25, 'mech')\n",
      "(4, 'gokul', 21, 'cse')\n",
      "(5, 'nithish', 23, 'it')\n",
      "(6, 'vijay', 24, 'eee')\n",
      "(7, 'mohan', 25, 'mech')\n",
      "(8, 'gokul', 21, 'cse')\n"
     ]
    }
   ],
   "source": [
    "#update the student.db\n",
    "cursor.execute('Select * from student')\n",
    "rows=cursor.fetchall()\n",
    "\n",
    "for row in rows:\n",
    "    print(row)"
   ]
  },
  {
   "cell_type": "code",
   "execution_count": 35,
   "metadata": {},
   "outputs": [
    {
     "data": {
      "text/plain": [
       "<sqlite3.Cursor at 0x22da5ba3440>"
      ]
     },
     "execution_count": 35,
     "metadata": {},
     "output_type": "execute_result"
    }
   ],
   "source": [
    "#Delete single data from student.db\n",
    "\n",
    "cursor.execute('''\n",
    "        DELETE from student\n",
    "               Where student_name=\"nithish\"\n",
    "''')"
   ]
  },
  {
   "cell_type": "code",
   "execution_count": 36,
   "metadata": {},
   "outputs": [
    {
     "name": "stdout",
     "output_type": "stream",
     "text": [
      "(2, 'vijay', 24, 'eee')\n",
      "(3, 'mohan', 25, 'mech')\n",
      "(4, 'gokul', 21, 'cse')\n",
      "(6, 'vijay', 24, 'eee')\n",
      "(7, 'mohan', 25, 'mech')\n",
      "(8, 'gokul', 21, 'cse')\n"
     ]
    }
   ],
   "source": [
    "cursor.execute('Select * from student')\n",
    "rows=cursor.fetchall()\n",
    "\n",
    "for row in rows:\n",
    "    print(row)"
   ]
  },
  {
   "cell_type": "code",
   "execution_count": 37,
   "metadata": {},
   "outputs": [],
   "source": [
    "connection.close()"
   ]
  },
  {
   "cell_type": "markdown",
   "metadata": {},
   "source": [
    "inserting bulk data into the database"
   ]
  },
  {
   "cell_type": "code",
   "execution_count": 38,
   "metadata": {},
   "outputs": [],
   "source": [
    "#creation of bulk dataset\n",
    "connection=sqlite3.connect('bulk.db')"
   ]
  },
  {
   "cell_type": "code",
   "execution_count": 39,
   "metadata": {},
   "outputs": [],
   "source": [
    "cursor=connection.cursor()"
   ]
  },
  {
   "cell_type": "code",
   "execution_count": 40,
   "metadata": {},
   "outputs": [],
   "source": [
    "cursor.execute('''\n",
    "        Create Table If Not Exists employees(\n",
    "            emp_id Integer Primary Key,\n",
    "            emp_name Text Not Null,\n",
    "            emp_age Integer Not Null,\n",
    "            emp_profession Text Not Null\n",
    "               )\n",
    "''')\n",
    "connection.commit()"
   ]
  },
  {
   "cell_type": "code",
   "execution_count": 41,
   "metadata": {},
   "outputs": [
    {
     "data": {
      "text/plain": [
       "<sqlite3.Cursor at 0x22da5ba0640>"
      ]
     },
     "execution_count": 41,
     "metadata": {},
     "output_type": "execute_result"
    }
   ],
   "source": [
    "cursor.execute('Select * from employees')"
   ]
  },
  {
   "cell_type": "code",
   "execution_count": 43,
   "metadata": {},
   "outputs": [],
   "source": [
    "data=[\n",
    "    (\"nithish\",22,\"AIML enginner\"),\n",
    "    (\"chandra\",18,\"civil engineer\"),\n",
    "    (\"surya\",21,\"Data Analyst\"),\n",
    "    (\"vasanth\",22,\"Data Analyst\"),\n",
    "    ('hariharan',21,\"Full stack developer\")\n",
    "]\n",
    "\n",
    "cursor.executemany('''\n",
    "    Insert Into employees(emp_name,emp_age,emp_profession)\n",
    "                   Values(?,?,?)\n",
    "''',data)\n",
    "\n",
    "connection.commit()"
   ]
  },
  {
   "cell_type": "code",
   "execution_count": 44,
   "metadata": {},
   "outputs": [
    {
     "name": "stdout",
     "output_type": "stream",
     "text": [
      "(1, 'nithish', 22, 'AIML enginner')\n",
      "(2, 'chandra', 18, 'civil engineer')\n",
      "(3, 'surya', 21, 'Data Analyst')\n",
      "(4, 'vasanth', 22, 'Data Analyst')\n",
      "(5, 'hariharan', 21, 'Full stack developer')\n"
     ]
    }
   ],
   "source": [
    "cursor.execute('Select * from employees')\n",
    "rows=cursor.fetchall()\n",
    "\n",
    "for row in rows:\n",
    "    print(row)"
   ]
  },
  {
   "cell_type": "code",
   "execution_count": 45,
   "metadata": {},
   "outputs": [],
   "source": [
    "connection.close()"
   ]
  }
 ],
 "metadata": {
  "kernelspec": {
   "display_name": "mlvenv",
   "language": "python",
   "name": "python3"
  },
  "language_info": {
   "codemirror_mode": {
    "name": "ipython",
    "version": 3
   },
   "file_extension": ".py",
   "mimetype": "text/x-python",
   "name": "python",
   "nbconvert_exporter": "python",
   "pygments_lexer": "ipython3",
   "version": "3.12.2"
  }
 },
 "nbformat": 4,
 "nbformat_minor": 2
}
